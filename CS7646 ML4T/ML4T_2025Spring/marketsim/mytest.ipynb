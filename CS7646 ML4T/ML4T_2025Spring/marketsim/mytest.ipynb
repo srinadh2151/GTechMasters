{
 "cells": [
  {
   "cell_type": "code",
   "execution_count": 3,
   "metadata": {},
   "outputs": [],
   "source": [
    "import pandas as pd\n",
    "import numpy as np\n",
    "from marketsim import compute_portvals\n",
    "import os"
   ]
  },
  {
   "cell_type": "code",
   "execution_count": 4,
   "metadata": {},
   "outputs": [
    {
     "data": {
      "text/plain": [
       "'/Users/srinadh.nidadana-c/Documents/Academics/GTechMasters/CS7646 ML4T/ML4T_2025Spring/marketsim'"
      ]
     },
     "execution_count": 4,
     "metadata": {},
     "output_type": "execute_result"
    }
   ],
   "source": [
    "os.getcwd()"
   ]
  },
  {
   "cell_type": "code",
   "execution_count": 6,
   "metadata": {},
   "outputs": [
    {
     "data": {
      "text/plain": [
       "['orders-09.csv',\n",
       " 'orders-08.csv',\n",
       " 'orders-12.csv',\n",
       " 'orders-06.csv',\n",
       " 'orders-07.csv',\n",
       " 'orders-05.csv',\n",
       " 'orders-11.csv',\n",
       " 'orders-10.csv',\n",
       " 'orders-04.csv',\n",
       " 'orders-01.csv',\n",
       " 'orders-03.csv',\n",
       " 'orders-02.csv']"
      ]
     },
     "execution_count": 6,
     "metadata": {},
     "output_type": "execute_result"
    }
   ],
   "source": [
    "os.listdir('./orders')"
   ]
  },
  {
   "cell_type": "code",
   "execution_count": 7,
   "metadata": {},
   "outputs": [
    {
     "data": {
      "text/html": [
       "<div>\n",
       "<style scoped>\n",
       "    .dataframe tbody tr th:only-of-type {\n",
       "        vertical-align: middle;\n",
       "    }\n",
       "\n",
       "    .dataframe tbody tr th {\n",
       "        vertical-align: top;\n",
       "    }\n",
       "\n",
       "    .dataframe thead th {\n",
       "        text-align: right;\n",
       "    }\n",
       "</style>\n",
       "<table border=\"1\" class=\"dataframe\">\n",
       "  <thead>\n",
       "    <tr style=\"text-align: right;\">\n",
       "      <th></th>\n",
       "      <th>Date</th>\n",
       "      <th>Symbol</th>\n",
       "      <th>Order</th>\n",
       "      <th>Shares</th>\n",
       "    </tr>\n",
       "  </thead>\n",
       "  <tbody>\n",
       "    <tr>\n",
       "      <th>0</th>\n",
       "      <td>2011-01-10</td>\n",
       "      <td>AAPL</td>\n",
       "      <td>BUY</td>\n",
       "      <td>1500</td>\n",
       "    </tr>\n",
       "    <tr>\n",
       "      <th>1</th>\n",
       "      <td>2011-01-13</td>\n",
       "      <td>AAPL</td>\n",
       "      <td>SELL</td>\n",
       "      <td>1500</td>\n",
       "    </tr>\n",
       "    <tr>\n",
       "      <th>2</th>\n",
       "      <td>2011-01-13</td>\n",
       "      <td>IBM</td>\n",
       "      <td>BUY</td>\n",
       "      <td>4000</td>\n",
       "    </tr>\n",
       "    <tr>\n",
       "      <th>3</th>\n",
       "      <td>2011-01-26</td>\n",
       "      <td>GOOG</td>\n",
       "      <td>BUY</td>\n",
       "      <td>1000</td>\n",
       "    </tr>\n",
       "    <tr>\n",
       "      <th>4</th>\n",
       "      <td>2011-02-02</td>\n",
       "      <td>XOM</td>\n",
       "      <td>SELL</td>\n",
       "      <td>4000</td>\n",
       "    </tr>\n",
       "    <tr>\n",
       "      <th>5</th>\n",
       "      <td>2011-02-10</td>\n",
       "      <td>XOM</td>\n",
       "      <td>BUY</td>\n",
       "      <td>4000</td>\n",
       "    </tr>\n",
       "    <tr>\n",
       "      <th>6</th>\n",
       "      <td>2011-03-03</td>\n",
       "      <td>GOOG</td>\n",
       "      <td>SELL</td>\n",
       "      <td>1000</td>\n",
       "    </tr>\n",
       "    <tr>\n",
       "      <th>7</th>\n",
       "      <td>2011-03-03</td>\n",
       "      <td>GOOG</td>\n",
       "      <td>SELL</td>\n",
       "      <td>2200</td>\n",
       "    </tr>\n",
       "    <tr>\n",
       "      <th>8</th>\n",
       "      <td>2011-06-03</td>\n",
       "      <td>IBM</td>\n",
       "      <td>SELL</td>\n",
       "      <td>3300</td>\n",
       "    </tr>\n",
       "    <tr>\n",
       "      <th>9</th>\n",
       "      <td>2011-05-03</td>\n",
       "      <td>IBM</td>\n",
       "      <td>BUY</td>\n",
       "      <td>1500</td>\n",
       "    </tr>\n",
       "    <tr>\n",
       "      <th>10</th>\n",
       "      <td>2011-06-10</td>\n",
       "      <td>AAPL</td>\n",
       "      <td>BUY</td>\n",
       "      <td>1200</td>\n",
       "    </tr>\n",
       "    <tr>\n",
       "      <th>11</th>\n",
       "      <td>2011-08-01</td>\n",
       "      <td>GOOG</td>\n",
       "      <td>BUY</td>\n",
       "      <td>55</td>\n",
       "    </tr>\n",
       "    <tr>\n",
       "      <th>12</th>\n",
       "      <td>2011-08-01</td>\n",
       "      <td>GOOG</td>\n",
       "      <td>SELL</td>\n",
       "      <td>55</td>\n",
       "    </tr>\n",
       "    <tr>\n",
       "      <th>13</th>\n",
       "      <td>2011-12-20</td>\n",
       "      <td>AAPL</td>\n",
       "      <td>SELL</td>\n",
       "      <td>1200</td>\n",
       "    </tr>\n",
       "    <tr>\n",
       "      <th>14</th>\n",
       "      <td>2011-12-21</td>\n",
       "      <td>AAPL</td>\n",
       "      <td>BUY</td>\n",
       "      <td>20</td>\n",
       "    </tr>\n",
       "    <tr>\n",
       "      <th>15</th>\n",
       "      <td>2011-12-27</td>\n",
       "      <td>GOOG</td>\n",
       "      <td>BUY</td>\n",
       "      <td>2200</td>\n",
       "    </tr>\n",
       "    <tr>\n",
       "      <th>16</th>\n",
       "      <td>2011-12-28</td>\n",
       "      <td>IBM</td>\n",
       "      <td>SELL</td>\n",
       "      <td>2200</td>\n",
       "    </tr>\n",
       "  </tbody>\n",
       "</table>\n",
       "</div>"
      ],
      "text/plain": [
       "          Date Symbol Order  Shares\n",
       "0   2011-01-10   AAPL   BUY    1500\n",
       "1   2011-01-13   AAPL  SELL    1500\n",
       "2   2011-01-13    IBM   BUY    4000\n",
       "3   2011-01-26   GOOG   BUY    1000\n",
       "4   2011-02-02    XOM  SELL    4000\n",
       "5   2011-02-10    XOM   BUY    4000\n",
       "6   2011-03-03   GOOG  SELL    1000\n",
       "7   2011-03-03   GOOG  SELL    2200\n",
       "8   2011-06-03    IBM  SELL    3300\n",
       "9   2011-05-03    IBM   BUY    1500\n",
       "10  2011-06-10   AAPL   BUY    1200\n",
       "11  2011-08-01   GOOG   BUY      55\n",
       "12  2011-08-01   GOOG  SELL      55\n",
       "13  2011-12-20   AAPL  SELL    1200\n",
       "14  2011-12-21   AAPL   BUY      20\n",
       "15  2011-12-27   GOOG   BUY    2200\n",
       "16  2011-12-28    IBM  SELL    2200"
      ]
     },
     "execution_count": 7,
     "metadata": {},
     "output_type": "execute_result"
    }
   ],
   "source": [
    "od1 = pd.read_csv('./orders/orders-01.csv')\n",
    "od1"
   ]
  },
  {
   "cell_type": "code",
   "execution_count": 12,
   "metadata": {},
   "outputs": [
    {
     "data": {
      "text/plain": [
       "Timedelta('352 days 00:00:00')"
      ]
     },
     "execution_count": 12,
     "metadata": {},
     "output_type": "execute_result"
    }
   ],
   "source": [
    "pd.to_datetime('2011-12-28') - pd.to_datetime('2011-01-10')"
   ]
  },
  {
   "cell_type": "code",
   "execution_count": 9,
   "metadata": {},
   "outputs": [
    {
     "name": "stdout",
     "output_type": "stream",
     "text": [
      "****portvals_df ---\n",
      "             Portfolio Value\n",
      "2011-01-10              0.0\n",
      "2011-01-11          -1215.0\n",
      "2011-01-12           2940.0\n",
      "2011-01-13           4815.0\n",
      "2011-01-14           9415.0\n",
      "...                     ...\n",
      "2011-12-21         141714.0\n",
      "2011-12-22         134451.8\n",
      "2011-12-23         132875.0\n",
      "2011-12-27         117714.6\n",
      "2011-12-28         115569.2\n",
      "\n",
      "[245 rows x 1 columns]\n"
     ]
    }
   ],
   "source": [
    "output_df = compute_portvals(orders_file='./orders/orders-01.csv',\n",
    "                             start_val=1000000, commission=0.0, impact=0.0)"
   ]
  },
  {
   "cell_type": "code",
   "execution_count": 14,
   "metadata": {},
   "outputs": [
    {
     "data": {
      "text/html": [
       "<div>\n",
       "<style scoped>\n",
       "    .dataframe tbody tr th:only-of-type {\n",
       "        vertical-align: middle;\n",
       "    }\n",
       "\n",
       "    .dataframe tbody tr th {\n",
       "        vertical-align: top;\n",
       "    }\n",
       "\n",
       "    .dataframe thead th {\n",
       "        text-align: right;\n",
       "    }\n",
       "</style>\n",
       "<table border=\"1\" class=\"dataframe\">\n",
       "  <thead>\n",
       "    <tr style=\"text-align: right;\">\n",
       "      <th></th>\n",
       "      <th>Portfolio Value</th>\n",
       "    </tr>\n",
       "  </thead>\n",
       "  <tbody>\n",
       "    <tr>\n",
       "      <th>2011-01-10</th>\n",
       "      <td>1000000.0</td>\n",
       "    </tr>\n",
       "    <tr>\n",
       "      <th>2011-01-11</th>\n",
       "      <td>998785.0</td>\n",
       "    </tr>\n",
       "    <tr>\n",
       "      <th>2011-01-12</th>\n",
       "      <td>1002940.0</td>\n",
       "    </tr>\n",
       "    <tr>\n",
       "      <th>2011-01-13</th>\n",
       "      <td>1004815.0</td>\n",
       "    </tr>\n",
       "    <tr>\n",
       "      <th>2011-01-14</th>\n",
       "      <td>1009415.0</td>\n",
       "    </tr>\n",
       "    <tr>\n",
       "      <th>...</th>\n",
       "      <td>...</td>\n",
       "    </tr>\n",
       "    <tr>\n",
       "      <th>2011-12-21</th>\n",
       "      <td>1141714.0</td>\n",
       "    </tr>\n",
       "    <tr>\n",
       "      <th>2011-12-22</th>\n",
       "      <td>1134451.8</td>\n",
       "    </tr>\n",
       "    <tr>\n",
       "      <th>2011-12-23</th>\n",
       "      <td>1132875.0</td>\n",
       "    </tr>\n",
       "    <tr>\n",
       "      <th>2011-12-27</th>\n",
       "      <td>1117714.6</td>\n",
       "    </tr>\n",
       "    <tr>\n",
       "      <th>2011-12-28</th>\n",
       "      <td>1115569.2</td>\n",
       "    </tr>\n",
       "  </tbody>\n",
       "</table>\n",
       "<p>245 rows × 1 columns</p>\n",
       "</div>"
      ],
      "text/plain": [
       "            Portfolio Value\n",
       "2011-01-10        1000000.0\n",
       "2011-01-11         998785.0\n",
       "2011-01-12        1002940.0\n",
       "2011-01-13        1004815.0\n",
       "2011-01-14        1009415.0\n",
       "...                     ...\n",
       "2011-12-21        1141714.0\n",
       "2011-12-22        1134451.8\n",
       "2011-12-23        1132875.0\n",
       "2011-12-27        1117714.6\n",
       "2011-12-28        1115569.2\n",
       "\n",
       "[245 rows x 1 columns]"
      ]
     },
     "execution_count": 14,
     "metadata": {},
     "output_type": "execute_result"
    }
   ],
   "source": [
    "output_df['Portfolio Value'] = output_df['Portfolio Value'] + 1000000\n",
    "output_df"
   ]
  },
  {
   "cell_type": "code",
   "execution_count": 13,
   "metadata": {},
   "outputs": [
    {
     "data": {
      "text/plain": [
       "49697857.6"
      ]
     },
     "execution_count": 13,
     "metadata": {},
     "output_type": "execute_result"
    }
   ],
   "source": [
    "output_df['Portfolio Value'].sum()"
   ]
  },
  {
   "cell_type": "code",
   "execution_count": null,
   "metadata": {},
   "outputs": [
    {
     "data": {
      "text/plain": [
       "{'num_days': 245,\n",
       " 'last_day_portval': 1115569.2,\n",
       " 'sharpe_ratio': 0.612340613407,\n",
       " 'avg_daily_ret': 0.00055037432146}"
      ]
     },
     "execution_count": 11,
     "metadata": {},
     "output_type": "execute_result"
    }
   ],
   "source": [
    "od1_response =  dict(num_days=245,\n",
    "                     last_day_portval=1115569.2,\n",
    "                     sharpe_ratio=0.612340613407,\n",
    "                     avg_daily_ret=0.00055037432146)\n",
    "od1_response"
   ]
  },
  {
   "cell_type": "code",
   "execution_count": 15,
   "metadata": {},
   "outputs": [
    {
     "data": {
      "text/html": [
       "<div>\n",
       "<style scoped>\n",
       "    .dataframe tbody tr th:only-of-type {\n",
       "        vertical-align: middle;\n",
       "    }\n",
       "\n",
       "    .dataframe tbody tr th {\n",
       "        vertical-align: top;\n",
       "    }\n",
       "\n",
       "    .dataframe thead th {\n",
       "        text-align: right;\n",
       "    }\n",
       "</style>\n",
       "<table border=\"1\" class=\"dataframe\">\n",
       "  <thead>\n",
       "    <tr style=\"text-align: right;\">\n",
       "      <th></th>\n",
       "      <th>Date</th>\n",
       "      <th>Symbol</th>\n",
       "      <th>Order</th>\n",
       "      <th>Shares</th>\n",
       "    </tr>\n",
       "  </thead>\n",
       "  <tbody>\n",
       "    <tr>\n",
       "      <th>0</th>\n",
       "      <td>2011-01-10</td>\n",
       "      <td>AAPL</td>\n",
       "      <td>BUY</td>\n",
       "      <td>1500</td>\n",
       "    </tr>\n",
       "    <tr>\n",
       "      <th>1</th>\n",
       "      <td>2011-01-13</td>\n",
       "      <td>AAPL</td>\n",
       "      <td>SELL</td>\n",
       "      <td>1500</td>\n",
       "    </tr>\n",
       "    <tr>\n",
       "      <th>2</th>\n",
       "      <td>2011-01-13</td>\n",
       "      <td>IBM</td>\n",
       "      <td>BUY</td>\n",
       "      <td>4000</td>\n",
       "    </tr>\n",
       "    <tr>\n",
       "      <th>3</th>\n",
       "      <td>2011-01-26</td>\n",
       "      <td>GOOG</td>\n",
       "      <td>BUY</td>\n",
       "      <td>1000</td>\n",
       "    </tr>\n",
       "    <tr>\n",
       "      <th>4</th>\n",
       "      <td>2011-02-02</td>\n",
       "      <td>XOM</td>\n",
       "      <td>SELL</td>\n",
       "      <td>4000</td>\n",
       "    </tr>\n",
       "    <tr>\n",
       "      <th>5</th>\n",
       "      <td>2011-02-10</td>\n",
       "      <td>XOM</td>\n",
       "      <td>BUY</td>\n",
       "      <td>4000</td>\n",
       "    </tr>\n",
       "    <tr>\n",
       "      <th>6</th>\n",
       "      <td>2011-03-03</td>\n",
       "      <td>GOOG</td>\n",
       "      <td>SELL</td>\n",
       "      <td>1000</td>\n",
       "    </tr>\n",
       "    <tr>\n",
       "      <th>7</th>\n",
       "      <td>2011-03-03</td>\n",
       "      <td>IBM</td>\n",
       "      <td>SELL</td>\n",
       "      <td>2200</td>\n",
       "    </tr>\n",
       "    <tr>\n",
       "      <th>8</th>\n",
       "      <td>2011-06-03</td>\n",
       "      <td>IBM</td>\n",
       "      <td>SELL</td>\n",
       "      <td>3300</td>\n",
       "    </tr>\n",
       "    <tr>\n",
       "      <th>9</th>\n",
       "      <td>2011-05-03</td>\n",
       "      <td>IBM</td>\n",
       "      <td>BUY</td>\n",
       "      <td>1500</td>\n",
       "    </tr>\n",
       "    <tr>\n",
       "      <th>10</th>\n",
       "      <td>2011-08-01</td>\n",
       "      <td>GOOG</td>\n",
       "      <td>BUY</td>\n",
       "      <td>55</td>\n",
       "    </tr>\n",
       "    <tr>\n",
       "      <th>11</th>\n",
       "      <td>2011-08-01</td>\n",
       "      <td>GOOG</td>\n",
       "      <td>SELL</td>\n",
       "      <td>55</td>\n",
       "    </tr>\n",
       "  </tbody>\n",
       "</table>\n",
       "</div>"
      ],
      "text/plain": [
       "          Date Symbol Order  Shares\n",
       "0   2011-01-10   AAPL   BUY    1500\n",
       "1   2011-01-13   AAPL  SELL    1500\n",
       "2   2011-01-13    IBM   BUY    4000\n",
       "3   2011-01-26   GOOG   BUY    1000\n",
       "4   2011-02-02    XOM  SELL    4000\n",
       "5   2011-02-10    XOM   BUY    4000\n",
       "6   2011-03-03   GOOG  SELL    1000\n",
       "7   2011-03-03    IBM  SELL    2200\n",
       "8   2011-06-03    IBM  SELL    3300\n",
       "9   2011-05-03    IBM   BUY    1500\n",
       "10  2011-08-01   GOOG   BUY      55\n",
       "11  2011-08-01   GOOG  SELL      55"
      ]
     },
     "execution_count": 15,
     "metadata": {},
     "output_type": "execute_result"
    }
   ],
   "source": [
    "od10 = pd.read_csv('./orders/orders-10.csv')\n",
    "od10"
   ]
  },
  {
   "cell_type": "code",
   "execution_count": null,
   "metadata": {},
   "outputs": [],
   "source": []
  },
  {
   "cell_type": "code",
   "execution_count": null,
   "metadata": {},
   "outputs": [],
   "source": []
  },
  {
   "cell_type": "code",
   "execution_count": null,
   "metadata": {},
   "outputs": [],
   "source": []
  }
 ],
 "metadata": {
  "kernelspec": {
   "display_name": "ml4t",
   "language": "python",
   "name": "python3"
  },
  "language_info": {
   "codemirror_mode": {
    "name": "ipython",
    "version": 3
   },
   "file_extension": ".py",
   "mimetype": "text/x-python",
   "name": "python",
   "nbconvert_exporter": "python",
   "pygments_lexer": "ipython3",
   "version": "3.10.16"
  }
 },
 "nbformat": 4,
 "nbformat_minor": 2
}
